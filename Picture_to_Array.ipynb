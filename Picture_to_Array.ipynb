{
  "nbformat": 4,
  "nbformat_minor": 0,
  "metadata": {
    "colab": {
      "provenance": []
    },
    "kernelspec": {
      "name": "python3",
      "display_name": "Python 3"
    },
    "language_info": {
      "name": "python"
    }
  },
  "cells": [
    {
      "cell_type": "code",
      "execution_count": 2,
      "metadata": {
        "colab": {
          "base_uri": "https://localhost:8080/"
        },
        "id": "rAqCHKLkOn-_",
        "outputId": "eca31490-0693-4be8-951e-aadb43e393a3"
      },
      "outputs": [
        {
          "output_type": "stream",
          "name": "stdout",
          "text": [
            "[[[ 74  17  14 255]\n",
            "  [ 92  29  30 255]\n",
            "  [ 89  20  23 255]\n",
            "  ...\n",
            "  [  5 140 249 255]\n",
            "  [  5 138 248 255]\n",
            "  [  5 138 248 255]]\n",
            "\n",
            " [[ 74  17  14 255]\n",
            "  [ 95  31  32 255]\n",
            "  [ 91  22  25 255]\n",
            "  ...\n",
            "  [ 19 121 237 255]\n",
            "  [ 10 129 250 255]\n",
            "  [  0 141 253 255]]\n",
            "\n",
            " [[ 70  14  10 255]\n",
            "  [ 92  29  30 255]\n",
            "  [ 93  25  27 255]\n",
            "  ...\n",
            "  [ 85 173 248 255]\n",
            "  [  0  69 164 255]\n",
            "  [  0 120 232 255]]\n",
            "\n",
            " ...\n",
            "\n",
            " [[250   0   2 255]\n",
            "  [248   0   2 255]\n",
            "  [248   0   2 255]\n",
            "  ...\n",
            "  [254  71  19 255]\n",
            "  [254  71  19 255]\n",
            "  [254  71  19 255]]\n",
            "\n",
            " [[255   0   9 255]\n",
            "  [255   0   9 255]\n",
            "  [255   0   9 255]\n",
            "  ...\n",
            "  [255  70  20 255]\n",
            "  [255  70  22 255]\n",
            "  [255  70  22 255]]\n",
            "\n",
            " [[224  21   0 255]\n",
            "  [224  21   0 255]\n",
            "  [224  21   0 255]\n",
            "  ...\n",
            "  [233  83   0 255]\n",
            "  [233  83   0 255]\n",
            "  [233  83   0 255]]]\n"
          ]
        }
      ],
      "source": [
        "# Import the necessary libraries\n",
        "from PIL import Image\n",
        "from numpy import asarray\n",
        "\n",
        "\n",
        "# load the image and convert into\n",
        "# numpy array\n",
        "x = Image.open('hi.png')\n",
        "x_array = asarray(x)\n",
        "\n",
        "# data\n",
        "print(x_array)"
      ]
    },
    {
      "cell_type": "code",
      "source": [
        "print(x_array.shape)\n"
      ],
      "metadata": {
        "colab": {
          "base_uri": "https://localhost:8080/"
        },
        "id": "-SD_JmO-PUKt",
        "outputId": "c2aa03ba-9347-40da-c02e-69fa5cf32341"
      },
      "execution_count": 3,
      "outputs": [
        {
          "output_type": "stream",
          "name": "stdout",
          "text": [
            "(206, 435, 4)\n"
          ]
        }
      ]
    },
    {
      "cell_type": "markdown",
      "source": [
        "Multi Array to 0-D Flatten"
      ],
      "metadata": {
        "id": "FzMCPhVRQFNc"
      }
    },
    {
      "cell_type": "code",
      "source": [
        "x_flat = x_array.reshape(-1)\n",
        "\n",
        "print(x_flat)"
      ],
      "metadata": {
        "colab": {
          "base_uri": "https://localhost:8080/"
        },
        "id": "bG_IqKkoPlUx",
        "outputId": "7e6470da-5b21-4a18-e94c-8e3529e10a03"
      },
      "execution_count": 5,
      "outputs": [
        {
          "output_type": "stream",
          "name": "stdout",
          "text": [
            "[ 74  17  14 ...  83   0 255]\n"
          ]
        }
      ]
    }
  ]
}