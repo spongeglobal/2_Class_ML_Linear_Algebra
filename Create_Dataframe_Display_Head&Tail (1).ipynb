{
  "nbformat": 4,
  "nbformat_minor": 0,
  "metadata": {
    "colab": {
      "provenance": []
    },
    "kernelspec": {
      "name": "python3",
      "display_name": "Python 3"
    },
    "language_info": {
      "name": "python"
    }
  },
  "cells": [
    {
      "cell_type": "code",
      "execution_count": 19,
      "metadata": {
        "colab": {
          "base_uri": "https://localhost:8080/"
        },
        "id": "o0tJW2xKyA_V",
        "outputId": "fae9effa-8cc2-4e45-d7ac-81500940b3d2"
      },
      "outputs": [
        {
          "output_type": "stream",
          "name": "stdout",
          "text": [
            "[['TV' 'Radio' 'Sales']\n",
            " ['4' '5' '6']\n",
            " ['1' '2' '3']\n",
            " ['4' '5' '6']\n",
            " ['1' '2' '3']\n",
            " ['4' '5' '6']]\n"
          ]
        }
      ],
      "source": [
        "import numpy as np\n",
        "\n",
        "x = np.array([[\"TV\", \"Radio\", \"Sales\"], [4, 5, 6],[1, 2, 3], [4, 5, 6],[1, 2, 3], [4, 5, 6]])\n",
        "\n",
        "print(x)"
      ]
    },
    {
      "cell_type": "code",
      "source": [
        "head, *tail = np.array(x)"
      ],
      "metadata": {
        "id": "PiPQtlwyyGPV"
      },
      "execution_count": 20,
      "outputs": []
    },
    {
      "cell_type": "code",
      "source": [
        "head,tail"
      ],
      "metadata": {
        "colab": {
          "base_uri": "https://localhost:8080/"
        },
        "id": "LYeO_-FPyKcc",
        "outputId": "16a430e7-3305-4660-f2ab-7619497f1fca"
      },
      "execution_count": 21,
      "outputs": [
        {
          "output_type": "execute_result",
          "data": {
            "text/plain": [
              "(array(['TV', 'Radio', 'Sales'], dtype='<U21'),\n",
              " [array(['4', '5', '6'], dtype='<U21'),\n",
              "  array(['1', '2', '3'], dtype='<U21'),\n",
              "  array(['4', '5', '6'], dtype='<U21'),\n",
              "  array(['1', '2', '3'], dtype='<U21'),\n",
              "  array(['4', '5', '6'], dtype='<U21')])"
            ]
          },
          "metadata": {},
          "execution_count": 21
        }
      ]
    },
    {
      "cell_type": "code",
      "source": [
        "print(x.ndim)"
      ],
      "metadata": {
        "colab": {
          "base_uri": "https://localhost:8080/"
        },
        "id": "VPrb83UC0lpg",
        "outputId": "e50b5bb1-b462-49d6-e53f-870b9b377db7"
      },
      "execution_count": 23,
      "outputs": [
        {
          "output_type": "stream",
          "name": "stdout",
          "text": [
            "2\n"
          ]
        }
      ]
    },
    {
      "cell_type": "code",
      "source": [
        "print( x.shape)\n"
      ],
      "metadata": {
        "colab": {
          "base_uri": "https://localhost:8080/"
        },
        "id": "ibu57d7w1uMI",
        "outputId": "b069caa7-d96d-417f-e915-34fcd1772fb0"
      },
      "execution_count": 25,
      "outputs": [
        {
          "output_type": "stream",
          "name": "stdout",
          "text": [
            "(6, 3)\n"
          ]
        }
      ]
    }
  ]
}